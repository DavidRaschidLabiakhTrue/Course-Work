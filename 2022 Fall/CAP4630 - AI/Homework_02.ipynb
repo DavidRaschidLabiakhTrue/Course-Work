{
  "cells": [
    {
      "cell_type": "markdown",
      "source": [
        "# David Raschid Labiakh-True\n",
        "# Dr. Wang\n",
        "\n",
        "# Homework 02\n"
      ],
      "metadata": {
        "id": "gh0DnnO9LOAK"
      }
    },
    {
      "cell_type": "markdown",
      "metadata": {
        "id": "7T2HW3LZyRnf"
      },
      "source": [
        "# Logistic Regression Homework\n",
        "\n",
        "This is the 2nd assignment for CAP 4630 and we will implement logistic regression and apply it to two\n",
        "different datasets. \\\n",
        "You will use **\"Tasks\"** and **\"Hints\"** to finish the work. **(Total 100 Points)** \\\n",
        "You are **not** allowed to use Machine Learning libaries such as Scikit-learn and Keras.\n",
        "\n",
        "**Task Overview:**\n",
        "- Logistic Regression "
      ]
    },
    {
      "cell_type": "markdown",
      "metadata": {
        "id": "fJ72UCpRyRnh"
      },
      "source": [
        "## 1 - Logistic Regression ##\n",
        "### 1.1 Packages\n",
        "\n",
        "Import useful packages for scientific computing and data processing. \n",
        "\n",
        "**Tasks:**\n",
        "1. Import numpy and rename it to np.\n",
        "2. Import pandas and rename it to pd.\n",
        "3. Import the pyplot function in the libraray of matplotlib and rename it to plt.\n",
        "\n",
        "References:\n",
        "- [numpy](www.numpy.org) is the fundamental package for scientific computing with Python.\n",
        "- [matplotlib](http://matplotlib.org) is a famous library to plot graphs in Python.\n",
        "\n",
        "**Attention:**\n",
        "1. After this renaming, you will use the new name to call functions. For example, **numpy** will become **np** in the following sections."
      ]
    },
    {
      "cell_type": "code",
      "execution_count": null,
      "metadata": {
        "colab": {
          "base_uri": "https://localhost:8080/"
        },
        "id": "VgLgUNR5yRni",
        "outputId": "5a89f203-de09-4378-ecd6-46d4dca09946"
      },
      "outputs": [
        {
          "output_type": "stream",
          "name": "stdout",
          "text": [
            "Mounted at /content/drive\n"
          ]
        }
      ],
      "source": [
        "# Import and rename libraries here\n",
        "from google.colab import drive\n",
        "drive.mount('/content/drive')\n",
        "\n",
        "import numpy as np;\n",
        "import pandas as pd;\n",
        "import matplotlib.pyplot as plt;"
      ]
    },
    {
      "cell_type": "markdown",
      "metadata": {
        "collapsed": true,
        "id": "xQ52ywu7yRnj"
      },
      "source": [
        "### 1.2 - Data Preparation ##\n",
        "\n",
        "Prepare the data for regression task. **(20 Points)**\n",
        "\n",
        "**Tasks:**\n",
        "1. Load data for logistic regression.\n",
        "2. **Generate the SCATTER PLOT of the data**.\n",
        "\n",
        "**Hints:**\n",
        "1. The data file is \"data_logistic.csv\", which are exam scores for students.\n",
        "2. The data is organized by column: x1 (exam 1 score), x2 (exam 2 score), and label y (pass 1 or fail 0).\n",
        "3. Please use different colors for postive(label=1) and negative(label=0) data.\n",
        "4. An example of scatter plots is shown below.\n",
        "\n",
        "![](https://drive.google.com/uc?export=view&id=1CPv5s4W8SkUMa_sXCIz-NejSnFj-e1IH)"
      ]
    },
    {
      "cell_type": "code",
      "execution_count": null,
      "metadata": {
        "id": "b4fhJP8cyRnj"
      },
      "outputs": [],
      "source": [
        "# Preprocess input data and generate plots\n",
        "pathData_logistic = \"/content/drive/MyDrive/CSV/data_logistic.csv\";\n",
        "df = pd.read_csv(pathData_logistic);\n",
        "\n",
        "x1 = df.iloc[:, 0]\n",
        "x2 = df.iloc[:, 1]\n",
        "y1 = df.iloc[:, 2]\n",
        "\n",
        "\n",
        "X = np.array(list(zip(x1, x2)));\n",
        "X = np.concatenate((np.ones((X.shape[0], 1)), X), axis = 1);\n",
        "Y = np.array(y1);\n"
      ]
    },
    {
      "cell_type": "code",
      "source": [
        "fig = plt.figure();\n",
        "ax = fig.add_subplot();\n",
        "\n",
        "length = x1.size;\n",
        "\n",
        "for i in range(length):\n",
        "  ax.scatter(x1[i], x2[i], s = 40, c = (\"black\" if y1[i] == 1 else \"yellow\"), marker = (\"+\" if y1[i] == 1 else \".\"))\n",
        "\n",
        "plt.show();"
      ],
      "metadata": {
        "colab": {
          "base_uri": "https://localhost:8080/",
          "height": 265
        },
        "id": "PPSYgla0LfFa",
        "outputId": "e0bfbd1d-ea87-47e1-a879-5208f1ba44c8"
      },
      "execution_count": null,
      "outputs": [
        {
          "output_type": "display_data",
          "data": {
            "text/plain": [
              "<Figure size 432x288 with 1 Axes>"
            ],
            "image/png": "[encoded data removed]"
          },
          "metadata": {
            "needs_background": "light"
          }
        }
      ]
    },
    {
      "cell_type": "markdown",
      "metadata": {
        "id": "UdckT59qyRnk"
      },
      "source": [
        "### 1.3 - Sigmoid function ##\n",
        "\n",
        "\n",
        "Implement sigmoid function so it can be called by the rest of your program. **(20 Points)**\n",
        "\n",
        "**Tasks:**\n",
        "1. Implement the sigmoid function (**def sigmoid(z):**). \n",
        "2. Test the sigmoid function by function **plotting** with test data (X, Y) where Y = sigmoid(X). \n",
        "\n",
        "**Hints:**  \n",
        "1. Given the class material, sigmoid function is defined as:\n",
        "$g(z) = \\frac{1}{1+e^{-z}}$.\n",
        "2. You may consider X = np.linspace(-5, 5, 1000) to plot the curve.\n",
        "3. Plot Y against X.\n",
        "4. An example of plot for validation is shown below:\n",
        "\n",
        "![](https://drive.google.com/uc?export=view&id=18j5oHdw78uVm2WwHsdIb4hwhpXDxR37S)"
      ]
    },
    {
      "cell_type": "code",
      "execution_count": null,
      "metadata": {
        "id": "nyNK1bTHyRnk"
      },
      "outputs": [],
      "source": [
        "# Implement sigmoid fuction here\n",
        "def sigmoid(z):\n",
        "  return 1.0 / (1.0 + np.exp(-z));\n",
        "\n",
        "def prepSigmoidInput(theta, X):\n",
        "  return np.dot(X, theta.T)\n",
        "\n",
        "def computeSigmoidProbability(theta, X):\n",
        "  return sigmoid(prepSigmoidInput(theta, X));"
      ]
    },
    {
      "cell_type": "code",
      "execution_count": null,
      "metadata": {
        "colab": {
          "base_uri": "https://localhost:8080/",
          "height": 279
        },
        "id": "ES9hkvxUyRnl",
        "outputId": "7bcf3ade-e4a9-4a3c-9a26-049b5b3f1732"
      },
      "outputs": [
        {
          "output_type": "display_data",
          "data": {
            "text/plain": [
              "<Figure size 432x288 with 1 Axes>"
            ],
            "image/png": "[encoded data removed]"
          },
          "metadata": {
            "needs_background": "light"
          }
        }
      ],
      "source": [
        "# Plot data here\n",
        "X_Space = np.linspace(-5, 5, 1000);\n",
        "Y_Space = sigmoid(X_Space);\n",
        "plt.xlabel(\"X\")\n",
        "plt.ylabel(\"g(x)\")\n",
        "plt.plot(X_Space, Y_Space)\n",
        "plt.show()"
      ]
    },
    {
      "cell_type": "markdown",
      "metadata": {
        "id": "QgA86HxZyRnm"
      },
      "source": [
        "### 1.4 - Cost function and gradient ##\n",
        "\n",
        "Implement the cross entropy cost function and its gradient for logistic regression. **(30 Points)**\n",
        "\n",
        "**Tasks:**\n",
        "1. Implement the \"cal_cost\" to compute the cost.\n",
        "2. Implement the \"cal_grad\" to compute the gradients.\n",
        "3. Test \"cal_cost\" and \"cal_grad\" with initial values and print out the results.\n",
        "\n",
        "**Hint:**\n",
        "1. The cross entropy cost function (J(θ)) in logistic regression is shown below. It involves two terms, including ylog(h) and (1-y)log(1-h) where h is the function of x.\n",
        "\n",
        "![](https://drive.google.com/uc?export=view&id=1xLhlPFI4wekwuA7lFm7ebRVt0XBZk3e7)\n",
        "\n",
        "2. The gradient of the cost J(θ) is a vector of the same length as θ where the $j$th element (for $j = 0, 1, . . . , n)$ is defined below. You may do a hand calculation to justify the first order derivative with the term above.\n",
        "\n",
        "![](https://drive.google.com/uc?export=view&id=1xfA0A0xyRv2L5JZIdedAmEZxZ3DwpOCF)\n",
        "\n",
        "3. When you implement J(θ), please use eps = 1e-15 to prevent possible \"divide by 0 exception\" in second term. You may think about the reason.\n",
        "4. You may consider the below templates for two functions:\n",
        "\n",
        "    def cal_cost(theta, X, y):\n",
        " \n",
        "        htheta = ...\n",
        "        term1 = ...  /* matrix_multiplication(log(htheta), y)\n",
        "        term2 = ...  /* matrix_multiplication(log(1-htheta+eps), (1-y))\n",
        "        J = - 1 / m * (term1 + term2) \n",
        "        \n",
        "        return cost\n",
        "        \n",
        "    \n",
        "    def cal_grad(theta, X, y):\n",
        "        \n",
        "        htheta = ...\n",
        "        term1 = ... /* matrix_multiplication(transpose(X), (htheta - y))  //you may think about why transpose(x)\n",
        "        grad = 1 / m * term1 \n",
        "    \n",
        "        return grad\n",
        "5. It involves matrix multiplication and you may consider the function of np.matmul or np.dot.   \n",
        "        \n",
        "6. Initialize the intercept term (constant term) with **ones** and the theta with **zeros**. Test the functions with these initial values. \\\n",
        "    **Expected outputs:**\\\n",
        "    Cost at initial theta : 0.6931471805599445\\\n",
        "    Gradient at inital theta : [-0.1        -10.91242026 -11.73652937]\n"
      ]
    },
    {
      "cell_type": "code",
      "execution_count": null,
      "metadata": {
        "id": "zBKmcyKRyRnm"
      },
      "outputs": [],
      "source": [
        "# Implement the cost function here\n",
        "\n",
        "def cal_cost(h, X, y):\n",
        "  eps = 1e-15;\n",
        "  cost = ( (-y * np.log(h)) - ((1-y) * np.log(1-h + eps))).mean();\n",
        "  return cost;\n",
        "  \n",
        "def cal_grad(h, X, y):\n",
        "\n",
        "  return np.dot(X.T, (y-h)) / y.shape[0];"
      ]
    },
    {
      "cell_type": "markdown",
      "metadata": {
        "id": "zJq1n2DtyRnn"
      },
      "source": [
        "## 1.5 Train parameters with Gradient Descent ##\n",
        "\n",
        "\n",
        "Train parameters using Gradient Descent. **(15 Points)**\n",
        "\n",
        "**Tasks:**\n",
        "1. Calculate best fit theta by Gradient Descent with learning rate of **0.001 (1e-3)** and epoch of **80K**. The initial theta from above blocks is used as initial values.\n",
        "2. Print out the best theta (the last one is considered as the best here) and its corresponding cost.\n",
        "3. **Plot the decision boundary**.\n",
        "\n",
        "**Hints:**\n",
        "1. You may take gradient descent in homework 1 as an template.\n",
        "2. Derive the boundary line from **sigmoid(theta[0]+ X1 * theta[1] + X2* theta[2])=0.5**. Think about why we get the line by setting **the activated probability to 0.5**. Also, try to calculate the final relationship between X1 and X2. When sigmoid(X) = 0.5, what is the value of x? Check the generated plot in 1.3.\n",
        "3. The validation of first 5 epochs (updated theta and cost): \\\n",
        "------Epoch 0------\\\n",
        "Theta: [0.0001     0.01091242 0.01173653]\\\n",
        "Cost: 0.6996118077359638\\\n",
        "------Epoch 1------\\\n",
        "Theta: [-0.0001129   0.00053949  0.00229352]\\\n",
        "Cost: 0.6649331468590681\\\n",
        "------Epoch 2------\\\n",
        "Theta: [-5.93604956e-05  8.33145873e-03  1.07754324e-02]\\\n",
        "Cost: 0.6679914364992459\\\n",
        "------Epoch 3------\\\n",
        "Theta: [-0.0002356   0.0004607   0.00370829]\\\n",
        "Cost: 0.6545873034874964\\\n",
        "------Epoch 4------\\\n",
        "Theta: [-0.00020363  0.00683227  0.01065138]\\\n",
        "Cost: 0.6563302142684528\n",
        "4. You may take the plots below as an exmample: \n",
        "\n",
        "![](https://drive.google.com/uc?export=view&id=1xLg9LrIF888gGXj3zRAG9iJLsyAmgPQg)\n",
        "\n",
        "5. It may take ~1 min to finish running."
      ]
    },
    {
      "cell_type": "code",
      "source": [
        "def update_theta(theta, learningRate, grad):\n",
        "  return theta + (learningRate * grad);"
      ],
      "metadata": {
        "id": "XEJ0aA4p2Wx5"
      },
      "execution_count": null,
      "outputs": []
    },
    {
      "cell_type": "code",
      "execution_count": null,
      "metadata": {
        "colab": {
          "base_uri": "https://localhost:8080/"
        },
        "id": "yN_9pY9kyRnn",
        "outputId": "14bd3d43-4832-43e2-9724-22d842ed60db"
      },
      "outputs": [
        {
          "output_type": "stream",
          "name": "stdout",
          "text": [
            "Theta:  [-3.88329777  0.02947987  0.03935448]\n",
            "Cost:  0.4383889488182781\n"
          ]
        }
      ],
      "source": [
        "# Gradient Descent Implementation Here\n",
        "\n",
        "def GradientDescent(epochs, learningRate, x1, x2, y1):\n",
        "\n",
        "  X = np.array(list(zip(x1, x2)));\n",
        "  intercept = np.ones((X.shape[0], 1));\n",
        "  X = np.concatenate((intercept, X), axis = 1);\n",
        "\n",
        "  Y = np.array(y1);\n",
        "\n",
        "\n",
        "  theta = np.zeros(X.shape[1]); # 0 out\n",
        "  htheta = computeSigmoidProbability(theta, X);\n",
        "\n",
        "  grad = cal_grad(htheta, X, Y);\n",
        "\n",
        "  for i in range(epochs):\n",
        "    theta = update_theta(theta, learningRate, grad);\n",
        "\n",
        "    htheta = computeSigmoidProbability(theta, X);\n",
        "    grad = cal_grad(htheta, X, Y);\n",
        "    cost = cal_cost(htheta, X, Y); # all that is needed is h and y\n",
        "\n",
        "  return theta, cost, grad, htheta;\n",
        "\n",
        "theta, cost, grad, htheta = GradientDescent(80000, .001, x1, x2, y1);\n",
        "print(\"Theta: \", theta);\n",
        "print(\"Cost: \", cost);"
      ]
    },
    {
      "cell_type": "code",
      "execution_count": null,
      "metadata": {
        "colab": {
          "base_uri": "https://localhost:8080/",
          "height": 265
        },
        "id": "Tl8OPWCtyRno",
        "outputId": "20fbf9dd-f214-4ec5-af50-3f36bcbcfc59"
      },
      "outputs": [
        {
          "output_type": "display_data",
          "data": {
            "text/plain": [
              "<Figure size 432x288 with 1 Axes>"
            ],
            "image/png": "[encoded data removed]"
          },
          "metadata": {
            "needs_background": "light"
          }
        }
      ],
      "source": [
        "# Draw Decision Boundary Here\n",
        "\n",
        "fig = plt.figure();\n",
        "ax = fig.add_subplot();\n",
        "\n",
        "length = x1.size;\n",
        "\n",
        "X_BOUNDARY = np.array([np.min(x1), np.max(x2)]);\n",
        "Y_BOUNDARY = (-(theta[0] + theta[1] * X_BOUNDARY) / theta[2])\n",
        "ax.plot(X_BOUNDARY, Y_BOUNDARY, c = \"green\", linewidth = 1);\n",
        "for i in range(length):\n",
        "  ax.scatter(x1[i], x2[i], s = 40, c = (\"black\" if y1[i] == 1 else \"yellow\"), marker = (\"+\" if y1[i] == 1 else \".\"))\n",
        "\n",
        "plt.show();"
      ]
    },
    {
      "cell_type": "code",
      "source": [
        "# Draw Decision Boundary Here - REPLICATED GRAPH\n",
        "\n",
        "# Prep for graphing\n",
        "\n",
        "# PROFESSOR HAS INCORRECT DATA SET UP - CONFIRMED WITH WANG\n",
        "FALSE_START = np.array([np.min(x2), np.max(x2)]); # FIGURED OUT WANG MADE ERROR HERE\n",
        "FALSE_BOUNDARY = ((-theta[0] - theta[2]*FALSE_START) / theta[1])\n",
        "fig = plt.figure();\n",
        "ax = fig.add_subplot();\n",
        "ax.plot(FALSE_START, FALSE_BOUNDARY, c = \"green\", linewidth = 1);\n",
        "\n",
        "for i in range(length):\n",
        "  ax.scatter(x1[i], x2[i], s = 40, c = (\"black\" if y1[i] == 1 else \"yellow\"), marker = (\"+\" if y1[i] == 1 else \".\"))\n",
        "\n",
        "plt.show();"
      ],
      "metadata": {
        "colab": {
          "base_uri": "https://localhost:8080/",
          "height": 265
        },
        "id": "HMdnkM7aCfJ5",
        "outputId": "1e862902-a53a-45e0-edb4-e232efa79381"
      },
      "execution_count": null,
      "outputs": [
        {
          "output_type": "display_data",
          "data": {
            "text/plain": [
              "<Figure size 432x288 with 1 Axes>"
            ],
            "image/png": "[encoded data removed]"
          },
          "metadata": {
            "needs_background": "light"
          }
        }
      ]
    },
    {
      "cell_type": "markdown",
      "metadata": {
        "id": "ly3aVJoGyRno"
      },
      "source": [
        "\n",
        "### 1.6 Evaluating Logistic Regression\n",
        "\n",
        "Evaluate the model with given data. **(15 Points)**\n",
        "\n",
        "**Tasks:**\n",
        "1. Calculate the training accuracy and **PRINT IT OUT**.\n",
        "2. Evaluate the predicted probability of the learnt model with x1 = 56 and x2 = 32 and **PRINT IT OUT**.\n",
        "\n",
        "\n",
        "**Hints:**  \n",
        "1. Positive(prediction>0.5) and negative(prediction<=0.5). \n",
        "2. The prediction results are based on acceptance probability. Given the two exam scores, we expected the model yields either high probability of \"fail\" or low probability of \"pass\".\n",
        "3. Training accuracy should be around **85%**."
      ]
    },
    {
      "cell_type": "code",
      "execution_count": null,
      "metadata": {
        "colab": {
          "base_uri": "https://localhost:8080/"
        },
        "id": "s92bJepKyRnp",
        "outputId": "bfa6f63d-0df8-4316-a0b9-4c7da2fa170b"
      },
      "outputs": [
        {
          "output_type": "stream",
          "name": "stdout",
          "text": [
            "Training Accuracy: 85.0%\n",
            "Predicted Probability Base Value -0.9730820224175798\n",
            "Predicted Sigmoid Probability: 0.2742666161817613 -> 27.42666161817613%\n"
          ]
        }
      ],
      "source": [
        "# Evaluate the model\n",
        "\n",
        "\n",
        "def accuracy(X, actual_class, threshold, theta):\n",
        "  predicted = (computeSigmoidProbability(theta, X) >= threshold).astype(int).flatten()\n",
        "  accuracyValue = np.mean(predicted == actual_class);\n",
        "  return accuracyValue * 100; # put probability into range.\n",
        "\n",
        "\n",
        "accur = accuracy(X, Y.flatten(), .5, theta);\n",
        "\n",
        "print(f\"Training Accuracy: {accur}%\")\n",
        "\n",
        "\n",
        "\n",
        "predictedProbability = theta[0] + theta[1] * 56 + theta[2] * 32\n",
        "predictedSigmoidProbability = sigmoid(predictedProbability)\n",
        "\n",
        "print(f\"Predicted Probability Base Value {predictedProbability}\")\n",
        "print(f\"Predicted Sigmoid Probability: {predictedSigmoidProbability} -> {predictedSigmoidProbability * 100}%\")"
      ]
    }
  ],
  "metadata": {
    "coursera": {
      "course_slug": "neural-networks-deep-learning",
      "graded_item_id": "XaIWT",
      "launcher_item_id": "zAgPl"
    },
    "kernelspec": {
      "display_name": "Python 3",
      "language": "python",
      "name": "python3"
    },
    "language_info": {
      "codemirror_mode": {
        "name": "ipython",
        "version": 3
      },
      "file_extension": ".py",
      "mimetype": "text/x-python",
      "name": "python",
      "nbconvert_exporter": "python",
      "pygments_lexer": "ipython3",
      "version": "3.8.5"
    },
    "colab": {
      "provenance": []
    }
  },
  "nbformat": 4,
  "nbformat_minor": 0
}